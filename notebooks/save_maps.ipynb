{
 "cells": [
  {
   "cell_type": "code",
   "execution_count": 1,
   "metadata": {},
   "outputs": [
    {
     "name": "stdout",
     "output_type": "stream",
     "text": [
      "Jupyter environment detected. Enabling Open3D WebVisualizer.\n",
      "[Open3D INFO] WebRTC GUI backend enabled.\n",
      "[Open3D INFO] WebRTCWindowSystem: HTTP handshake server disabled.\n"
     ]
    }
   ],
   "source": [
    "import repackage\n",
    "repackage.up()\n",
    "import os\n",
    "\n",
    "from datasets.nuscenes import NuScenesMultipleRadarMultiSweeps\n",
    "from utils.occupancy import *\n",
    "from utils.labelling import *\n",
    "from utils.transforms import *\n",
    "from utils.postprocessing import *\n",
    "from utils.ransac_solver import RANSACSolver\n",
    "from utils.motion_estimation import *\n",
    "from autolabeler import AutoLabeler\n",
    "import pandas as pd\n",
    "import os.path as osp\n",
    "import numpy as np\n",
    "import open3d as o3d\n",
    "from pathlib import Path\n",
    "from nuscenes import NuScenes\n",
    "from multiprocessing import cpu_count, Pool, set_start_method\n",
    "import matplotlib\n",
    "import matplotlib.pyplot as plt\n",
    "from utils.visualization import map_pointcloud_to_image, render_pointcloud_in_image, plot_maps\n",
    "from utils.motion_estimation import remove_dynamic_points\n",
    "from utils.labelling import get_sps_labels\n"
   ]
  },
  {
   "cell_type": "code",
   "execution_count": 2,
   "metadata": {},
   "outputs": [],
   "source": [
    "DATA_DIR = \"/shared/data/nuScenes/\"\n",
    "versions = {'trainval': 'v1.0-trainval', 'test': 'v1.0-test'}\n",
    "nuscenes_exp = {\n",
    "    vname: NuScenes(dataroot=DATA_DIR, version=version, verbose=False)\n",
    "    for vname, version in versions.items()\n",
    "}"
   ]
  },
  {
   "cell_type": "code",
   "execution_count": 3,
   "metadata": {},
   "outputs": [],
   "source": [
    "ref_frame = None\n",
    "NUM_SWEEPS = 5\n",
    "ref_sensor = None\n",
    "filter_points = False\n",
    "\n",
    "DPR_THRESH = 0.15\n",
    "OCTOMAP_RESOLUTION = 0.15 # For dividing space, for lidar 0.1 is suitable but since radar is sparse a larger value might be better\n",
    "VOXEL_SIZE = 0.01\n",
    "\n",
    "DF_PATH = '../sps_nuscenes_more_matches_df.json'\n",
    "sps_df = pd.read_json(DF_PATH)\n",
    "\n",
    "\n",
    "ICP_FILTERING = True\n",
    "SEARCH_IN_RADIUS = True\n",
    "RADIUS = 1\n",
    "USE_LIDAR_LABELS = False\n",
    "USE_OCCUPANCY_PRIORS = True\n",
    "FILTER_BY_POSES = False\n",
    "FILTER_BY_RADIUS = False\n",
    "FILTER_OUT_OF_BOUNDS = False\n",
    "USE_COMBINED_MAP = True\n",
    "\n",
    "\n",
    "SENSORS = [\"RADAR_FRONT\", \"RADAR_FRONT_LEFT\", \"RADAR_FRONT_RIGHT\", \"RADAR_BACK_LEFT\", \"RADAR_BACK_RIGHT\"]"
   ]
  },
  {
   "cell_type": "code",
   "execution_count": 4,
   "metadata": {},
   "outputs": [
    {
     "data": {
      "text/plain": [
       "\"\\nGiven exp dir\\nLoad the labelled maps from there (global frame)\\nSetup dataloader in sensor frame\\nGet DPR masks for each sensor PCL\\nGet DPR masks in global frame\\nFrom the loaded labelled map, remove the DPR points --> Save maps_dpr/ (This leaves only auto-labeler points)\\nFrom each sensor's PCL:\\n    - remove the DPR points\\n    - project a copy to global and retrieve the stable scores from the loaded map post DPR\\n    - project to local pose\\n    - concat all sensors\\nAdd this processed frame for the local_dpr_map\\nDo for all frames and then save the new map --> Save local_maps_dpr/ \\n\""
      ]
     },
     "execution_count": 4,
     "metadata": {},
     "output_type": "execute_result"
    }
   ],
   "source": [
    "\"\"\"\n",
    "Given exp dir\n",
    "Load the labelled maps from there (global frame)\n",
    "Setup dataloader in sensor frame\n",
    "Get DPR masks for each sensor PCL\n",
    "Get DPR masks in global frame\n",
    "From the loaded labelled map, remove the DPR points --> Save maps_dpr/ (This leaves only auto-labeler points)\n",
    "From each sensor's PCL:\n",
    "    - remove the DPR points\n",
    "    - project a copy to global and retrieve the stable scores from the loaded map post DPR\n",
    "    - project to local pose\n",
    "    - concat all sensors\n",
    "Add this processed frame for the local_dpr_map\n",
    "Do for all frames and then save the new map --> Save local_maps_dpr/ \n",
    "\"\"\""
   ]
  },
  {
   "cell_type": "code",
   "execution_count": 5,
   "metadata": {},
   "outputs": [
    {
     "data": {
      "text/plain": [
       "[None, None]"
      ]
     },
     "execution_count": 5,
     "metadata": {},
     "output_type": "execute_result"
    }
   ],
   "source": [
    "LABELLED_MAPS_DIR = '/home/umair/workspace/radar_sps_datasets/nuscenes/maps/'\n",
    "DPR_MAPS_DIR = '/home/umair/workspace/radar_sps_datasets/nuscenes/maps_dpr/'\n",
    "LOCAL_DPR_MAPS_DIR = '/home/umair/workspace/radar_sps_datasets/nuscenes/local_maps_dpr/'\n",
    "[Path(d).mkdir(exist_ok=True, parents=True) for d in [DPR_MAPS_DIR, LOCAL_DPR_MAPS_DIR]]"
   ]
  },
  {
   "cell_type": "code",
   "execution_count": 8,
   "metadata": {},
   "outputs": [],
   "source": [
    "all_scenes_data = []\n",
    "for i,row in sps_df.iterrows():\n",
    "    all_scenes_data.append((row['scene_name'], row['split']))\n",
    "    for scene, data in row['closest_scenes_data'].items():\n",
    "        all_scenes_data.append((scene, data['split']))"
   ]
  },
  {
   "cell_type": "code",
   "execution_count": null,
   "metadata": {},
   "outputs": [],
   "source": [
    "scene_name = 'scene-120'\n",
    "split = 'trainval'\n",
    "seq = int(scene_name.split('-')[1])"
   ]
  },
  {
   "cell_type": "code",
   "execution_count": null,
   "metadata": {},
   "outputs": [],
   "source": [
    "dataloader = NuScenesMultipleRadarMultiSweeps(\n",
    "        data_dir=DATA_DIR,\n",
    "        nusc=nuscenes_exp[split],\n",
    "        sequence=seq,\n",
    "        sensors=SENSORS,\n",
    "        nsweeps=NUM_SWEEPS,\n",
    "        ref_frame=None,\n",
    "        ref_sensor=None,\n",
    "        apply_dpr=False,\n",
    "        filter_points=False,\n",
    "        ransac_threshold=-1,\n",
    "        combine_velocity_components=False\n",
    ")"
   ]
  },
  {
   "cell_type": "code",
   "execution_count": null,
   "metadata": {},
   "outputs": [],
   "source": [
    "scene_name"
   ]
  },
  {
   "cell_type": "code",
   "execution_count": null,
   "metadata": {},
   "outputs": [],
   "source": [
    "labelled_map = np.loadtxt(os.path.join(LABELLED_MAPS_DIR, f'{scene_name}.asc'), skiprows=1)\n",
    "labelled_map.shape"
   ]
  },
  {
   "cell_type": "code",
   "execution_count": null,
   "metadata": {},
   "outputs": [],
   "source": [
    "scene_pointclouds = [dataloader[i][0] for i in range(dataloader.num_readings)]\n",
    "scene_calibs = [dataloader[i][1] for i in range(dataloader.num_readings)]\n",
    "scene_global_poses = dataloader.global_poses\n",
    "scene_local_poses = dataloader.local_poses"
   ]
  },
  {
   "cell_type": "code",
   "execution_count": null,
   "metadata": {},
   "outputs": [],
   "source": [
    "ransac_solver = RANSACSolver(threshold=DPR_THRESH, max_iter=10, outdir='output_dpr')\n",
    "scene_dpr_masks = []\n",
    "for index, (sensor_pcls, sensor_calibs) in enumerate(zip(scene_pointclouds, scene_calibs)):\n",
    "    sensor_dpr_masks = {}\n",
    "    for sensor, pcl, calib in zip(SENSORS, sensor_pcls, sensor_calibs):\n",
    "        if sensor in ['RADAR_FRONT_LEFT', 'RADAR_FRONT_RIGHT']:\n",
    "            ## Removing these points since Autoplace does not use these sensors either\n",
    "            # DPR results get worse if we use them\n",
    "            sensor_dpr_masks[sensor] = np.zeros(len(pcl)).astype(bool)\n",
    "            continue\n",
    "        \n",
    "        if pcl.shape[0] > 1:\n",
    "            info = [\n",
    "                [scene_name, index],\n",
    "                sensor,\n",
    "                pcl.shape[0]\n",
    "            ]\n",
    "            best_mask, _, _ = ransac_solver.ransac_nusc(info=info, pcl=pcl, vis=(False and sensor == 'RADAR_FRONT'))\n",
    "            sensor_dpr_masks[sensor] = best_mask\n",
    "    scene_dpr_masks.append(sensor_dpr_masks)\n",
    "            # ego_points_sensor = transform_doppler_points(calib, pcl)"
   ]
  },
  {
   "cell_type": "code",
   "execution_count": null,
   "metadata": {},
   "outputs": [],
   "source": [
    "def plot_dpr_masks(scene, map_pcl, mask, size=0.25):\n",
    "    plt.figure(figsize=(10, 10))\n",
    "    \n",
    "    plt.scatter(map_pcl[:, 0], map_pcl[:, 1], s=size, label='static', c='green', alpha=0.5)\n",
    "    dpr_map = map_pcl[:len(mask)]\n",
    "    dpr_map = dpr_map[~mask]\n",
    "    plt.scatter(dpr_map[:, 0], dpr_map[:, 1], s=size, label='dynamic', c='red', alpha=0.5)\n",
    "    plt.title(scene)\n",
    "    plt.xlabel('X')\n",
    "    plt.ylabel('Y')"
   ]
  },
  {
   "cell_type": "code",
   "execution_count": null,
   "metadata": {},
   "outputs": [],
   "source": [
    "sensor_idx = 3\n",
    "frame_idx = 10\n",
    "plot_dpr_masks(scene=SENSORS[sensor_idx], map_pcl=scene_pointclouds[frame_idx][sensor_idx], mask=scene_dpr_masks[frame_idx][SENSORS[sensor_idx]])"
   ]
  },
  {
   "cell_type": "code",
   "execution_count": null,
   "metadata": {},
   "outputs": [],
   "source": [
    "local_scene_pcls = []\n",
    "global_scene_pcls = []\n",
    "scene_sensor_ids = []\n",
    "\n",
    "for frame_dpr_masks, frame_pcls, frame_global_pose, frame_local_pose, frame_calibs in zip(scene_dpr_masks, scene_pointclouds, scene_global_poses, scene_local_poses, scene_calibs):\n",
    "    frame_local_pcl = []\n",
    "    frame_global_pcl = []\n",
    "    frame_sensor_ids = []\n",
    "\n",
    "    for sensor, sensor_pcl, sensor_calib in zip(SENSORS, frame_pcls, frame_calibs):\n",
    "        dpr_mask = frame_dpr_masks[sensor]\n",
    "        static_sensor_pcl = sensor_pcl[dpr_mask, :]\n",
    "        ego_pcl = transform_doppler_points(sensor_calib, static_sensor_pcl)\n",
    "        ego_local_pcl = transform_doppler_points(frame_local_pose, ego_pcl)\n",
    "        global_pcl = transform_doppler_points(frame_global_pose, ego_pcl)\n",
    "        frame_local_pcl.append(ego_local_pcl)\n",
    "        frame_global_pcl.append(global_pcl)\n",
    "        frame_sensor_ids.append([sensor] * len(static_sensor_pcl))\n",
    "    \n",
    "    local_scene_pcls.append(np.vstack(frame_local_pcl))\n",
    "    global_scene_pcls.append(np.vstack(frame_global_pcl))\n",
    "    scene_sensor_ids.append(np.hstack(frame_sensor_ids))"
   ]
  },
  {
   "cell_type": "code",
   "execution_count": null,
   "metadata": {},
   "outputs": [],
   "source": [
    "len(local_scene_pcls), len(global_scene_pcls), len(scene_sensor_ids)"
   ]
  },
  {
   "cell_type": "code",
   "execution_count": null,
   "metadata": {},
   "outputs": [],
   "source": [
    "static_labels = []\n",
    "\n",
    "for pcl in global_scene_pcls:\n",
    "    stable_scores = get_sps_labels(labelled_map, pcl)\n",
    "    static_labels.append(stable_scores)"
   ]
  },
  {
   "cell_type": "code",
   "execution_count": null,
   "metadata": {},
   "outputs": [],
   "source": [
    "len(static_labels)"
   ]
  },
  {
   "cell_type": "code",
   "execution_count": null,
   "metadata": {},
   "outputs": [],
   "source": [
    "static_labels[0]"
   ]
  },
  {
   "cell_type": "code",
   "execution_count": null,
   "metadata": {},
   "outputs": [],
   "source": [
    "scene_global_static_labelled_map = []\n",
    "scene_local_static_labelled_map = []\n",
    "\n",
    "for i in range(len(static_labels)):\n",
    "    local_labelled_scan = np.hstack([local_scene_pcls[i], static_labels[i].reshape(-1 ,1) ])\n",
    "    global_labelled_scan = np.hstack([global_scene_pcls[i], static_labels[i].reshape(-1 ,1)])\n",
    "\n",
    "    scene_local_static_labelled_map.append(local_labelled_scan)\n",
    "    scene_global_static_labelled_map.append(global_labelled_scan)"
   ]
  },
  {
   "cell_type": "code",
   "execution_count": null,
   "metadata": {},
   "outputs": [],
   "source": [
    "scene_local_static_labelled_map = np.vstack(scene_local_static_labelled_map)\n",
    "scene_global_static_labelled_map = np.vstack(scene_global_static_labelled_map)\n",
    "\n",
    "scene_local_static_labelled_map.shape, scene_global_static_labelled_map.shape"
   ]
  },
  {
   "cell_type": "code",
   "execution_count": null,
   "metadata": {},
   "outputs": [],
   "source": [
    "plot_maps({\n",
    "    'with_dynamic_points' : labelled_map,\n",
    "    'without_dynamic_points' : scene_global_static_labelled_map\n",
    "}, poses={'with_dynamic_points' : scene_global_poses, 'without_dynamic_points' : scene_global_poses}, zoom_level=-1)"
   ]
  },
  {
   "cell_type": "code",
   "execution_count": null,
   "metadata": {},
   "outputs": [],
   "source": [
    "points = scene_global_static_labelled_map[:, :3]\n",
    "labels = scene_global_static_labelled_map[:, -1]\n",
    "\n",
    "mean_point = np.mean(points, axis=0) # color rescaling fix\n",
    "points = np.vstack([points, mean_point, mean_point + 1])\n",
    "labels = np.hstack([labels, [0, 1]])\n",
    "\n",
    "plt.figure(figsize=(10, 10))\n",
    "plt.scatter(points[:, 0], points[:, 1], c=labels, cmap='RdYlGn', s=0.05)\n",
    "plt.colorbar(label='Stability')\n",
    "plt.xlabel('X')\n",
    "plt.ylabel('Y')\n",
    "plt.show()"
   ]
  },
  {
   "cell_type": "code",
   "execution_count": null,
   "metadata": {},
   "outputs": [],
   "source": [
    "points = labelled_map[:, :3]\n",
    "labels = labelled_map[:, -1]\n",
    "\n",
    "mean_point = np.mean(points, axis=0) # color rescaling fix\n",
    "points = np.vstack([points, mean_point, mean_point + 1])\n",
    "labels = np.hstack([labels, [0, 1]])\n",
    "\n",
    "plt.figure(figsize=(10, 10))\n",
    "plt.scatter(points[:, 0], points[:, 1], c=labels, cmap='RdYlGn', s=0.05)\n",
    "plt.colorbar(label='Stability')\n",
    "plt.xlabel('X')\n",
    "plt.ylabel('Y')\n",
    "plt.show()"
   ]
  },
  {
   "cell_type": "code",
   "execution_count": 6,
   "metadata": {},
   "outputs": [],
   "source": [
    "def get_updated_data(scene_name, dataloader, labelled_map):\n",
    "\n",
    "    scene_pointclouds = [dataloader[i][0] for i in range(dataloader.num_readings)]\n",
    "    scene_calibs = [dataloader[i][1] for i in range(dataloader.num_readings)]\n",
    "    scene_global_poses = dataloader.global_poses\n",
    "    scene_local_poses = dataloader.local_poses\n",
    "\n",
    "    scene_label_statistics = {}\n",
    "    \n",
    "    ransac_solver = RANSACSolver(threshold=DPR_THRESH, max_iter=10, outdir='output_dpr')\n",
    "    scene_dpr_masks = []\n",
    "    for index, (sensor_pcls, sensor_calibs) in enumerate(zip(scene_pointclouds, scene_calibs)):\n",
    "        sensor_dpr_masks = {}\n",
    "        for sensor, pcl, calib in zip(SENSORS, sensor_pcls, sensor_calibs):\n",
    "            if sensor in ['RADAR_FRONT_LEFT', 'RADAR_FRONT_RIGHT']:\n",
    "                ## Removing these points since Autoplace does not use these sensors either\n",
    "                # DPR results get worse if we use them\n",
    "                sensor_dpr_masks[sensor] = np.zeros(len(pcl)).astype(bool)\n",
    "                continue\n",
    "            \n",
    "            if pcl.shape[0] > 1:\n",
    "                info = [\n",
    "                    [scene_name, index],\n",
    "                    sensor,\n",
    "                    pcl.shape[0]\n",
    "                ]\n",
    "                best_mask, _, _ = ransac_solver.ransac_nusc(info=info, pcl=pcl, vis=(False and sensor == 'RADAR_FRONT'))\n",
    "                sensor_dpr_masks[sensor] = best_mask\n",
    "        scene_dpr_masks.append(sensor_dpr_masks)\n",
    "    \n",
    "    ego_scene_pcls = []\n",
    "    local_scene_pcls = []\n",
    "    global_scene_pcls = []\n",
    "    scene_sensor_ids = []\n",
    "    merged_scene_dpr_mask = []\n",
    "\n",
    "    for frame_dpr_masks, frame_pcls, frame_global_pose, frame_local_pose, frame_calibs in zip(scene_dpr_masks, scene_pointclouds, scene_global_poses, scene_local_poses, scene_calibs):\n",
    "        frame_ego_pcl = []\n",
    "        frame_local_pcl = []\n",
    "        frame_global_pcl = []\n",
    "        frame_sensor_ids = []\n",
    "        merged_frame_dpr_masks = []\n",
    "\n",
    "        for sensor, sensor_pcl, sensor_calib in zip(SENSORS, frame_pcls, frame_calibs):\n",
    "            dpr_mask = frame_dpr_masks[sensor]\n",
    "            merged_frame_dpr_masks.append(dpr_mask)\n",
    "\n",
    "            static_sensor_pcl = sensor_pcl[dpr_mask, :]\n",
    "\n",
    "            num_dynamic_points = len(sensor_pcl) - len(static_sensor_pcl)\n",
    "            if 'scene_dynamic_points' in scene_label_statistics:\n",
    "                scene_label_statistics['scene_dynamic_points']+=num_dynamic_points\n",
    "            else:\n",
    "                scene_label_statistics['scene_dynamic_points'] = num_dynamic_points\n",
    "\n",
    "            ego_pcl = transform_doppler_points(sensor_calib, static_sensor_pcl)\n",
    "            ego_local_pcl = transform_doppler_points(frame_local_pose, ego_pcl)\n",
    "            global_pcl = transform_doppler_points(frame_global_pose, ego_pcl)\n",
    "            \n",
    "            frame_ego_pcl.append(ego_pcl)\n",
    "            frame_local_pcl.append(ego_local_pcl)\n",
    "            frame_global_pcl.append(global_pcl)\n",
    "            frame_sensor_ids.append([sensor] * len(static_sensor_pcl))\n",
    "        \n",
    "        ego_scene_pcls.append(np.vstack(frame_ego_pcl))\n",
    "        local_scene_pcls.append(np.vstack(frame_local_pcl))\n",
    "        global_scene_pcls.append(np.vstack(frame_global_pcl))\n",
    "        scene_sensor_ids.append(np.hstack(frame_sensor_ids))\n",
    "        merged_scene_dpr_mask.append(np.hstack(merged_frame_dpr_masks))\n",
    "\n",
    "    \n",
    "    static_labels = []\n",
    "    for pcl in global_scene_pcls:\n",
    "        stable_scores = get_sps_labels(labelled_map, pcl)\n",
    "        static_labels.append(stable_scores)\n",
    "\n",
    "\n",
    "    scene_global_static_labelled_map = []\n",
    "    scene_local_static_labelled_map = []\n",
    "\n",
    "    for i in range(len(static_labels)):\n",
    "        local_labelled_scan = np.hstack([local_scene_pcls[i], static_labels[i].reshape(-1 ,1) ])\n",
    "        global_labelled_scan = np.hstack([global_scene_pcls[i], static_labels[i].reshape(-1 ,1)])\n",
    "\n",
    "        scene_local_static_labelled_map.append(local_labelled_scan)\n",
    "        scene_global_static_labelled_map.append(global_labelled_scan)\n",
    "\n",
    "    scene_local_static_labelled_map = np.vstack(scene_local_static_labelled_map)\n",
    "    scene_global_static_labelled_map = np.vstack(scene_global_static_labelled_map)\n",
    "\n",
    "\n",
    "    num_unstable_points = np.sum(scene_local_static_labelled_map[:, -1] <= 0.5)\n",
    "    num_stable_points = np.sum(scene_local_static_labelled_map[:, -1] > 0.5)\n",
    "\n",
    "    scene_label_statistics['scene_unstable_points'] = num_unstable_points\n",
    "    scene_label_statistics['scene_stable_points'] = num_stable_points\n",
    "\n",
    "    updated_data_dict = {\n",
    "        'labelled_local_static_map' : scene_local_static_labelled_map,\n",
    "        'labelled_global_static_map' : scene_local_static_labelled_map,\n",
    "\n",
    "        'static_ego_frames' : ego_scene_pcls,\n",
    "        'static_frame_labels' : static_labels,\n",
    "\n",
    "        'scene_label_statistics' : scene_label_statistics,\n",
    "    }\n",
    "\n",
    "    return updated_data_dict\n",
    "\n",
    "    \n",
    "    "
   ]
  },
  {
   "cell_type": "code",
   "execution_count": 9,
   "metadata": {},
   "outputs": [],
   "source": [
    "all_scenes_label_statistics = []\n",
    "\n",
    "for scene_name in os.listdir(LABELLED_MAPS_DIR):\n",
    "    old_labelled_map = np.loadtxt(os.path.join(LABELLED_MAPS_DIR, scene_name), skiprows=1)\n",
    "    scene_name = scene_name.replace(\".asc\", \"\")\n",
    "    split = [tpl[1] for tpl in all_scenes_data if tpl[0] == scene_name][-1]\n",
    "    seq = int(scene_name.split(\"-\")[-1])\n",
    "\n",
    "    dataloader = NuScenesMultipleRadarMultiSweeps(\n",
    "        data_dir=DATA_DIR,\n",
    "        nusc=nuscenes_exp[split],\n",
    "        sequence=seq,\n",
    "        sensors=SENSORS,\n",
    "        nsweeps=NUM_SWEEPS,\n",
    "        ref_frame=None,\n",
    "        ref_sensor=None,\n",
    "        apply_dpr=False,\n",
    "        filter_points=False,\n",
    "        ransac_threshold=-1,\n",
    "        combine_velocity_components=False\n",
    "    )\n",
    "    update_data_dict = get_updated_data(scene_name, dataloader, old_labelled_map)\n",
    "\n",
    "    all_scenes_label_statistics.append({**{'scene_name' : scene_name}, **update_data_dict['scene_label_statistics']})\n",
    "    \n",
    "    local_lmap = update_data_dict['labelled_local_static_map']\n",
    "    global_lmap = update_data_dict['labelled_global_static_map']\n",
    "    ego_frames = update_data_dict['static_ego_frames']\n",
    "    scan_stablility_scores = update_data_dict['static_frame_labels']\n",
    "    \n",
    "    scans_dir = f'/home/umair/workspace/radar_sps_datasets/nuscenes/sequence/{scene_name}/scans/'\n",
    "    scans_dpr_dir = f'/home/umair/workspace/radar_sps_datasets/nuscenes/sequence/{scene_name}/scans_dpr/'\n",
    "    labels_dpr_dir = f'/home/umair/workspace/radar_sps_datasets/nuscenes/sequence/{scene_name}/labels_dpr/'\n",
    "    \n",
    "\n",
    "    local_map_file = os.path.join(LOCAL_DPR_MAPS_DIR, f'{scene_name}.asc')\n",
    "    np.savetxt(local_map_file,\n",
    "                local_lmap,\n",
    "                fmt='%.6f', delimiter=' ',\n",
    "                header='x y z RCS v_x v_y cv_x cv_y stable_prob',\n",
    "                comments='')\n",
    "    \n",
    "    global_map_file = os.path.join(DPR_MAPS_DIR, f'{scene_name}.asc')\n",
    "    np.savetxt(global_map_file,\n",
    "                global_lmap,\n",
    "                fmt='%.6f', delimiter=' ',\n",
    "                header='x y z RCS v_x v_y cv_x cv_y stable_prob',\n",
    "                comments='')\n",
    "\n",
    "    [Path(p).mkdir(parents=True,exist_ok=True) for p in [scans_dpr_dir, labels_dpr_dir]]\n",
    "    \n",
    "    scan_files = sorted([file for file in os.listdir(scans_dir)], key=lambda f: float(''.join(filter(lambda x: x.isdigit() or x == '.', f.split('.npy')[0]))))\n",
    "\n",
    "    for name, scan, label in zip(scan_files, ego_frames, scan_stablility_scores):\n",
    "        np.save(os.path.join(scans_dpr_dir, f'{name}'), scan)\n",
    "        np.save(os.path.join(labels_dpr_dir, f'{name}'), label)\n",
    "\n",
    "    break"
   ]
  },
  {
   "cell_type": "code",
   "execution_count": null,
   "metadata": {},
   "outputs": [],
   "source": [
    "def plot_labelled_map(lmap):\n",
    "    points = lmap[:, :3]\n",
    "    labels = lmap[:, -1]\n",
    "\n",
    "    mean_point = np.mean(points, axis=0) # color rescaling fix\n",
    "    points = np.vstack([points, mean_point, mean_point + 1])\n",
    "    labels = np.hstack([labels, [0, 1]])\n",
    "\n",
    "    plt.figure(figsize=(10, 10))\n",
    "    plt.scatter(points[:, 0], points[:, 1], c=labels, cmap='RdYlGn', s=0.05)\n",
    "    plt.colorbar(label='Stability')\n",
    "    plt.xlabel('X')\n",
    "    plt.ylabel('Y')\n",
    "    plt.show()"
   ]
  },
  {
   "cell_type": "code",
   "execution_count": null,
   "metadata": {},
   "outputs": [],
   "source": [
    "plot_labelled_map(update_data_dict['labelled_local_static_map'])"
   ]
  },
  {
   "cell_type": "code",
   "execution_count": null,
   "metadata": {},
   "outputs": [],
   "source": [
    "update_data_dict['scene_label_statistics']"
   ]
  }
 ],
 "metadata": {
  "kernelspec": {
   "display_name": "radar_auto_labeler",
   "language": "python",
   "name": "python3"
  },
  "language_info": {
   "codemirror_mode": {
    "name": "ipython",
    "version": 3
   },
   "file_extension": ".py",
   "mimetype": "text/x-python",
   "name": "python",
   "nbconvert_exporter": "python",
   "pygments_lexer": "ipython3",
   "version": "3.6.13"
  }
 },
 "nbformat": 4,
 "nbformat_minor": 2
}
